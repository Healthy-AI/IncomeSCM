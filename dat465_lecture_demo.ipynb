{
 "cells": [
  {
   "cell_type": "markdown",
   "id": "6308abd3-9170-4e2d-9a11-392b66a4c698",
   "metadata": {
    "id": "E_qjM1PZNm1w"
   },
   "source": [
    "# Basic imports"
   ]
  },
  {
   "cell_type": "code",
   "execution_count": null,
   "id": "32573bd7-3588-476c-8025-51a32fb13142",
   "metadata": {
    "executionInfo": {
     "elapsed": 419,
     "status": "ok",
     "timestamp": 1686319825435,
     "user": {
      "displayName": "Fredrik Johansson",
      "userId": "05692080819018191511"
     },
     "user_tz": -120
    },
    "id": "2cddzX6aDIgi"
   },
   "outputs": [],
   "source": [
    "%load_ext autoreload\n",
    "%autoreload 2\n",
    "import sys, os, time\n",
    "import requests, zipfile, io"
   ]
  },
  {
   "cell_type": "markdown",
   "id": "7ed5c686-b6de-4470-b185-a88a364455a1",
   "metadata": {
    "id": "lH_PcZmWD2VC",
    "jp-MarkdownHeadingCollapsed": true
   },
   "source": [
    "# Import packages for machine learning analysis"
   ]
  },
  {
   "cell_type": "code",
   "execution_count": null,
   "id": "dca9352a-8b10-4be9-9454-1c89c618ac93",
   "metadata": {
    "executionInfo": {
     "elapsed": 406,
     "status": "ok",
     "timestamp": 1686320105436,
     "user": {
      "displayName": "Fredrik Johansson",
      "userId": "05692080819018191511"
     },
     "user_tz": -120
    },
    "id": "alkX_3d4EBQn"
   },
   "outputs": [],
   "source": [
    "# Data representation, linear algebra\n",
    "import numpy as np\n",
    "import pandas as pd\n",
    "\n",
    "# Machine learning\n",
    "from sklearn.linear_model import Ridge, LogisticRegression\n",
    "from sklearn.metrics import roc_auc_score, r2_score\n",
    "from sklearn.ensemble import RandomForestClassifier, RandomForestRegressor\n",
    "from sklearn.model_selection import GridSearchCV, train_test_split\n",
    "from sklearn.calibration import calibration_curve\n",
    "\n",
    "# Set the transformer setting\n",
    "from sklearn import set_config\n",
    "set_config(transform_output = \"pandas\")\n",
    "\n",
    "# Plotting\n",
    "import matplotlib.pyplot as plt\n",
    "plt.rc('font', size=18)\n",
    "plt.rc('figure', figsize=(7,5))"
   ]
  },
  {
   "cell_type": "markdown",
   "id": "2f15eff5-6a8e-40c4-85a4-f0f48d3279c0",
   "metadata": {},
   "source": [
    "# Load and inspect the data"
   ]
  },
  {
   "cell_type": "code",
   "execution_count": null,
   "id": "9c985152-ac7e-4bf7-aa15-0003d9cd8ecf",
   "metadata": {},
   "outputs": [],
   "source": [
    "df = ..."
   ]
  },
  {
   "cell_type": "markdown",
   "id": "4fbd2240-c312-4bd4-89e0-9b76ed412729",
   "metadata": {},
   "source": [
    "## Inspect the dataframe\n",
    "\n",
    "### Covariates\n",
    "Variable name | Meaning\n",
    " --- | ---\n",
    "native-country | Native country (categorical)\n",
    "sex | Self-reported sex (binary)\n",
    "race | Self-reported race (categorical)\n",
    "age | Age (continuous)\n",
    "education | Education level (categorical)\n",
    "workclass | Class of job (categorical)\n",
    "occupation | Type of job (categorical)\n",
    "marital-status | Marital status (categorical)\n",
    "relationship | Type of relationship / household (categorical) \n",
    "capital-net | Yearly change in capital (continuous)\n",
    "hours-per-week | Number of work hours per week (continuous)\n",
    "income_current | Current yearly income in USD (continuous)\n",
    "education-num | Numeric interpretation of education (continuous)\n",
    "\n",
    "### Treatment\n",
    "Variable name | Meaning\n",
    " --- | ---\n",
    "studies | Type of studies (categorical)\n",
    "\n",
    "### Outcome\n",
    "Variable name | Meaning\n",
    " --- | ---\n",
    "income | Yearly income in USD **after 10 years**\n"
   ]
  },
  {
   "cell_type": "markdown",
   "id": "b72d0423-84d8-46c8-adb8-22d1b1037d92",
   "metadata": {},
   "source": [
    "### What are the types of studies?"
   ]
  },
  {
   "cell_type": "code",
   "execution_count": null,
   "id": "ef5c3366-e7ab-4efd-8fa5-81c64c27467f",
   "metadata": {},
   "outputs": [],
   "source": [
    "# The treatment variable\n",
    "t_col = ...\n",
    "\n",
    "plt.hist ... \n",
    "plt.xticks(rotation=90)"
   ]
  },
  {
   "cell_type": "markdown",
   "id": "f58d140b-d35a-4a18-94d6-edd7a15ee844",
   "metadata": {},
   "source": [
    "<br/><br/>\n",
    "# Let's figure out our goal [first... back to the slides]\n",
    "<br/><br/>"
   ]
  },
  {
   "cell_type": "markdown",
   "id": "8d863591-ed6e-42a7-b127-3280b1ce98ef",
   "metadata": {},
   "source": [
    "# Let's define our outcome variable and adjustment set"
   ]
  },
  {
   "cell_type": "code",
   "execution_count": null,
   "id": "75256ec6-7ed9-4993-9f06-02707854e1b8",
   "metadata": {},
   "outputs": [],
   "source": [
    "# The outcome column\n",
    "y_col = ... \n",
    "\n",
    "# The adjustment set\n",
    "a_cols = ... \n",
    "\n",
    "# All covariates\n",
    "x_cols = ... "
   ]
  },
  {
   "cell_type": "code",
   "execution_count": null,
   "id": "4eca6224-70f2-4aef-b68d-d16599822ddd",
   "metadata": {},
   "outputs": [],
   "source": [
    "# We only want to study 'Full-time studies' vs 'No studies'\n",
    "# Let's restrict our dataframe to these\n",
    "\n",
    "df = ..."
   ]
  },
  {
   "cell_type": "markdown",
   "id": "8e654cf5-d89f-480b-b873-65c63779347e",
   "metadata": {},
   "source": [
    "# Regression adjustment requires assumptions\n",
    "\n",
    "Exchangeability and Consistency can't be checked. But Treatment overlap can! Let's check it!"
   ]
  },
  {
   "cell_type": "code",
   "execution_count": null,
   "id": "701d955e-3461-493b-983f-4eeb459f7e1f",
   "metadata": {},
   "outputs": [],
   "source": [
    "# Treatment indicator\n",
    "T = ...\n",
    "\n",
    "# Visualize variables\n",
    "for c in a_cols: ...\n",
    "    plt..."
   ]
  },
  {
   "cell_type": "markdown",
   "id": "fec590f5-250d-444c-8719-3a67e548ccac",
   "metadata": {},
   "source": [
    "...\n",
    "<br/><br/><br/><br/><br/><br/><br/><br/><br/><br/><br/><br/>\n",
    "# Take-aways from overlap check?"
   ]
  },
  {
   "cell_type": "markdown",
   "id": "b6ce79d2-c747-41c8-884d-285bc4ebc61c",
   "metadata": {},
   "source": [
    "## First, let's restrict our study population"
   ]
  },
  {
   "cell_type": "code",
   "execution_count": null,
   "id": "6b808728-404f-40f4-b888-1bd7b72ff945",
   "metadata": {},
   "outputs": [],
   "source": [
    "df = ..."
   ]
  },
  {
   "cell_type": "markdown",
   "id": "0e8899a7-5a51-4042-972f-b054eae35193",
   "metadata": {},
   "source": [
    "## Second, let's restrict our adjustment set"
   ]
  },
  {
   "cell_type": "code",
   "execution_count": null,
   "id": "a65e3c4d-c35c-4501-9730-0da0046349e9",
   "metadata": {},
   "outputs": [],
   "source": [
    "a_cols = ..."
   ]
  },
  {
   "cell_type": "markdown",
   "id": "efebf464-0d26-4c62-8ff2-8ce01914c4a0",
   "metadata": {},
   "source": [
    "# OK, we know...\n",
    "* Our target parameter (ATE)\n",
    "* Our study population\n",
    "* Our adjustment set\n",
    "* Our statistical estimand\n",
    "* Something about treatment overlap\n",
    "\n",
    "## Let's do some estimation!"
   ]
  },
  {
   "cell_type": "markdown",
   "id": "4da6d7e4-451b-4f6f-828c-5696a22a83c1",
   "metadata": {},
   "source": [
    "## For reference, let's create a Difference-in-means (DIM) estimate of ATE"
   ]
  },
  {
   "cell_type": "code",
   "execution_count": null,
   "id": "ece49a34-bbb5-421d-a76c-9eb72859b0c5",
   "metadata": {},
   "outputs": [],
   "source": [
    "T = ...\n",
    "ATE_dim = ..."
   ]
  },
  {
   "cell_type": "markdown",
   "id": "c9bcaf06-1364-4bf3-9c15-e7b1f044df19",
   "metadata": {},
   "source": [
    "<br/><br/>\n",
    "# Next, let's do a regression-based estimate"
   ]
  },
  {
   "cell_type": "code",
   "execution_count": null,
   "id": "e07bb0bd-2f38-4758-89c4-edadd667324c",
   "metadata": {},
   "outputs": [],
   "source": [
    "# Let's hold out 20% of data for testing/estimating effects using train_test_split\n",
    "df_tr, df_te = ...\n",
    "\n",
    "# Training samples\n",
    "A_tr, Y_tr, T_tr = ...\n",
    "\n",
    "# Test samples\n",
    "A_te, Y_te, T_te = ...\n",
    "\n",
    "# We need to standardize and dichotomize features\n",
    "# We can use the \"SubsetTransformer\" which is part of IncomeSim/util.py\n",
    "tf = ...\n",
    "\n",
    "# Lets store the post-transformation columns\n",
    "columns_tf = ...\n",
    "\n",
    "# And have a look at the transformed data\n",
    "..."
   ]
  },
  {
   "cell_type": "markdown",
   "id": "87487488-eb4a-431e-94d6-77cc172ad4be",
   "metadata": {},
   "source": [
    "## Let's try fitting a T-learner with Ridge regression\n",
    "\n",
    "A T-learner estimates the potential outcomes under treatment and control separately. Under conditional exchangeability (ignorability) w.r.t. $X$, we have\n",
    "\n",
    "$$\n",
    "\\mu_t(x) = \\mathbb{E}[Y(t) \\mid X=x] = \\mathbb{E}[Y \\mid T=t, X=x]\n",
    "$$\n",
    "\n",
    "We can estimate $\\mu_t$ for $t \\in \\{0,1\\}$ separately as two regressions\n",
    "\n",
    "$$\n",
    "\\hat{\\mu}_t(x) = \\mbox{arg} \\min_f \\frac{1}{n_t}\\sum_{i : t_i=t} (f(x_i) - y_i)^2\n",
    "$$\n",
    "\n",
    "The minimizer of the mean-squared error (MSE) is the conditional expectation. \n",
    "\n",
    "Then, we can estimate the conditional average treatment effect (CATE)\n",
    "$$\n",
    "\\hat{\\tau}(x) = \\hat{\\mu}_1(x) - \\hat{\\mu}_0(x)\n",
    "$$\n",
    "and the average treatment effect (ATE)\n",
    "$$\n",
    "\\hat{\\tau} =  \\frac{1}{n}\\sum_{i=1}^n \\hat{\\tau}(x_i) = \\frac{1}{n}\\sum_{i=1}^n (\\hat{\\mu}_1(x_i) - \\hat{\\mu}_0(x_i))\n",
    "$$"
   ]
  },
  {
   "cell_type": "code",
   "execution_count": null,
   "id": "c66a7545-d498-4270-95a9-a0fd58cbf1a8",
   "metadata": {},
   "outputs": [],
   "source": [
    "# Let's use scikit-learns grid search\n",
    "param_grid = ... \n",
    "mu0_r = ...\n",
    "mu1_r = ...\n",
    "\n",
    "# Compute the R2 score\n",
    "R20_r = ..."
   ]
  },
  {
   "cell_type": "code",
   "execution_count": null,
   "id": "fe1c2736-8df2-4b05-a920-8633277eb605",
   "metadata": {},
   "outputs": [],
   "source": [
    "# Estimate CATE and ATE\n",
    "CATE_r = ...\n",
    "ATE_r = ..."
   ]
  },
  {
   "cell_type": "markdown",
   "id": "86e09a0b-6ce2-42bc-8a59-9e98c6409089",
   "metadata": {},
   "source": [
    "<br/><br/><br/>\n",
    "## Are these results good enough? What about a different model?"
   ]
  },
  {
   "cell_type": "code",
   "execution_count": null,
   "id": "2f77f21a-dbde-4f94-9e44-83a1246c0d0a",
   "metadata": {},
   "outputs": [],
   "source": [
    "# Let's use scikit-learns grid search\n",
    "param_grid = ... \n",
    "mu0_rf = ...\n",
    "mu1_rf = ...\n",
    "\n",
    "# Compute the R2 score\n",
    "R20_rf = ..."
   ]
  },
  {
   "cell_type": "code",
   "execution_count": null,
   "id": "c1c03f4e-07a3-487b-ac7b-e5b3962fe578",
   "metadata": {},
   "outputs": [],
   "source": [
    "# Estimate CATE and ATE\n",
    "CATE_rf = ...\n",
    "ATE_rf = ..."
   ]
  },
  {
   "cell_type": "markdown",
   "id": "89b14f14-05ae-43e7-a12d-756feb14dd99",
   "metadata": {},
   "source": [
    "<br/><br/><br/>\n",
    "## Are these results good enough? What about a different adjustment set?"
   ]
  },
  {
   "cell_type": "code",
   "execution_count": null,
   "id": "371fd7e2-759d-4487-8705-8edf583dc927",
   "metadata": {},
   "outputs": [],
   "source": [
    "a_cols_ext = ...\n",
    "A_tr_ext = ...\n",
    "A_te_ext = ...\n",
    "\n",
    "# Repeat what we did before"
   ]
  },
  {
   "cell_type": "markdown",
   "id": "d72a7e53-3e4b-4650-8356-987a4c3e2d12",
   "metadata": {},
   "source": [
    "<br/><br/><br/>\n",
    "## What happens to our results?\n",
    "* How do the R2 compare?\n",
    "* How do the ATE estimates?"
   ]
  },
  {
   "cell_type": "markdown",
   "id": "6874473f-0dfb-420b-b8c8-f08a6ba83c1b",
   "metadata": {},
   "source": [
    "<br/><br/><br/>\n",
    "## What would happen if we accidentally included \"income_current\"?\n",
    "\n",
    "A so-called post-treatment variable"
   ]
  },
  {
   "cell_type": "markdown",
   "id": "75561ef0-31df-4182-b416-ce4b2d8d09c6",
   "metadata": {},
   "source": [
    "<br/><br/><br/>\n",
    "# Finally, let's do a propensity-weighting estimate\n",
    "\n",
    "Assume that $p(T=t \\mid X=x) > 0$ for all $x, t$. Then, under conditional exchangeability w.r.t. $X$ and consistency, \n",
    "\n",
    "$$\n",
    "\\mu_1 = \\mathbb{E}[Y(1)] = \\mathbb{E}\\left[Y \\frac{p(T=t)}{p(T=t \\mid X)} \\mid T=t \\right] = \\mathbb{E}\\left[Y \\frac{p(T=t)}{e_t(X)} \\mid T=t \\right]\n",
    "$$\n",
    "where $e_1(x) = e(x) = p(T=1 \\mid X=x)$ is the propensity score w.r.t. $x$ and $e_0(x) = 1-e(x)$.\n",
    "\n",
    "We can easily estimate $p(T=t)$. This is just the maginal rate of treatment. \n",
    "\n",
    "$e(x) = p(T=1 \\mid X=x)$ is a conditional probability of a binary variable. We can estimate this using a stochastic classifier such as logistic regression or random forests! Given an estimate $\\hat{e}(x)$, we can estimate expected potential outcomes \n",
    "\n",
    "$$\n",
    "\\hat{\\mu_t} = \\frac{1}{n_t}\\sum_{i : t_i = t}\\frac{\\hat{p}(T=t)}{\\hat{e}_t(x_i)} y_i\n",
    "$$\n",
    "and the average treatment effect\n",
    "$$\n",
    "\\hat{\\tau} = \\hat{\\mu_1} - \\hat{\\mu_0}\n",
    "$$\n",
    "\n",
    "Let's do that!"
   ]
  },
  {
   "cell_type": "code",
   "execution_count": null,
   "id": "ed20220c-a380-4711-8e0b-0e3c692691b3",
   "metadata": {},
   "outputs": [],
   "source": [
    "\n",
    "# Fit a propensity model, e.g., logistic regression\n",
    "e1_lr = ...\n",
    "\n",
    "# Evaluate propensity on training set and test set\n",
    "e1_lr_tr = ...\n",
    "e1_lr_te = ...\n",
    "\n",
    "# Evaluate the propensity model\n",
    "AUC_lr = ..."
   ]
  },
  {
   "cell_type": "code",
   "execution_count": null,
   "id": "827ce2ed-15d3-42ec-bdc5-79bf1fc06f81",
   "metadata": {},
   "outputs": [],
   "source": [
    "# Might as well do a random forest as well\n",
    "e1_rf = ...\n",
    "\n",
    "# Evaluate propensity on training set and test set\n",
    "e1_lr_tr = ...\n",
    "e1_lr_te = ...\n",
    "\n",
    "# Evaluate the propensity model\n",
    "AUC_rf = ..."
   ]
  },
  {
   "cell_type": "markdown",
   "id": "5bf88de1-c0cc-402e-a6c9-49946da1f012",
   "metadata": {},
   "source": [
    "<br/><br/><br/>\n",
    "## Let's assess calibration"
   ]
  },
  {
   "cell_type": "code",
   "execution_count": null,
   "id": "f20a3e79-8360-45a4-a181-b64750714183",
   "metadata": {},
   "outputs": [],
   "source": [
    "# Compute calibration curve\n",
    "rate_lr, pred_lr = ...\n",
    "\n",
    "plt. ..."
   ]
  },
  {
   "cell_type": "markdown",
   "id": "afa9e733-ef0c-4536-b011-69be642e335a",
   "metadata": {},
   "source": [
    "<br/><br/><br/>\n",
    "## Let's compute the IPW estimate"
   ]
  },
  {
   "cell_type": "code",
   "execution_count": null,
   "id": "003ed53c-9f9d-40b9-a7cc-26a4a8907d4b",
   "metadata": {},
   "outputs": [],
   "source": [
    "# Marginal treatment probability\n",
    "p1 = ...\n",
    "# Importance weights for treated\n",
    "ipw1 = ...\n",
    "# Importance weights for control\n",
    "ipw0 = ...\n",
    "\n",
    "# Horvitz-Thompson estimator\n",
    "ATE_ipwn = ..."
   ]
  },
  {
   "cell_type": "markdown",
   "id": "dd0513c0-abac-4313-83ce-f64d20b53b76",
   "metadata": {},
   "source": [
    "<br/><br/><br/><br/><br/><br/>\n",
    "## Does that look right?\n",
    "\n",
    "### Let's try one more thing"
   ]
  },
  {
   "cell_type": "code",
   "execution_count": null,
   "id": "62fe5843-ffcb-4e5f-a982-af34e0d0ffd7",
   "metadata": {},
   "outputs": [],
   "source": [
    "# Importance weights for treated\n",
    "ipw1h = ...\n",
    "# Importance weights for control\n",
    "ipw0h = ...\n",
    "\n",
    "# Hajek estimator (normalized weights)\n",
    "ATE_ipwn = ..."
   ]
  },
  {
   "cell_type": "markdown",
   "id": "bdd34cba-c5ec-4038-b4f7-9ca4fb35d9f0",
   "metadata": {},
   "source": [
    "# OK, we have several estimates..."
   ]
  },
  {
   "cell_type": "code",
   "execution_count": null,
   "id": "7c15785a-40b4-4588-8f56-b84090f26cdb",
   "metadata": {},
   "outputs": [],
   "source": [
    "# ATE_dim\n",
    "# ATE_r\n",
    "# ATE_rf\n",
    "# ATE_ipw\n",
    "# ATE_ipwn"
   ]
  },
  {
   "cell_type": "markdown",
   "id": "f4c2c58a-9b7c-4403-becf-f57d7c38aa4d",
   "metadata": {},
   "source": [
    "<br/><br/><br/>\n",
    "# How do we know if they are any good?\n",
    "\n",
    "To confirm ATE in the real world, we must run an experiment and estimate it. This will...\n",
    "* Gathering a population\n",
    "* Randomly assigning them to $T=0$ and $T=1$\n",
    "* Observing outcomes and computing averages\n",
    "\n",
    "## We can simulate that by setting a flag ```-p``` in the generator"
   ]
  },
  {
   "cell_type": "code",
   "execution_count": null,
   "id": "b20afe6a-1553-4a9b-8053-d0ca6bbe1212",
   "metadata": {},
   "outputs": [],
   "source": [
    "# Generate according to T=0 policy\n",
    "%run generate.py -n 50000 -T 10 -p no\n",
    "\n",
    "# Generate according to T=1 policy\n",
    "%run generate.py -n 50000 -T 10 -p full"
   ]
  },
  {
   "cell_type": "code",
   "execution_count": null,
   "id": "9084aeba-1747-4fda-92c6-2d4b343737d3",
   "metadata": {},
   "outputs": [],
   "source": [
    "# Load datasets\n",
    "df1 = ...\n",
    "df0 = ...\n",
    "\n",
    "# Restrict populations in the same way to  20 <= Age <= 55\n",
    "df1 = ...\n",
    "df0 = ...\n",
    "\n",
    "# On-policy ATE estimate\n",
    "ATE_onp = ..."
   ]
  },
  {
   "cell_type": "markdown",
   "id": "07c28a07-c40a-4881-bf91-af7a465b77dc",
   "metadata": {},
   "source": [
    "<br/><br/><br/>\n",
    "# If we have time, we can also estimate CATE as a function of age\n",
    "\n",
    "## Let's use our estimates from the Ridge and Random forest"
   ]
  },
  {
   "cell_type": "code",
   "execution_count": null,
   "id": "7549e1dc-972c-49ee-ba1f-1a0198e59e16",
   "metadata": {},
   "outputs": [],
   "source": [
    "df_cate_r = ..."
   ]
  }
 ],
 "metadata": {
  "kernelspec": {
   "display_name": "Python 3 (ipykernel)",
   "language": "python",
   "name": "python3"
  },
  "language_info": {
   "codemirror_mode": {
    "name": "ipython",
    "version": 3
   },
   "file_extension": ".py",
   "mimetype": "text/x-python",
   "name": "python",
   "nbconvert_exporter": "python",
   "pygments_lexer": "ipython3",
   "version": "3.11.3"
  }
 },
 "nbformat": 4,
 "nbformat_minor": 5
}
